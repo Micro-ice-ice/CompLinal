{
 "cells": [
  {
   "cell_type": "markdown",
   "id": "1016299e",
   "metadata": {},
   "source": [
    "# Собственные значения"
   ]
  },
  {
   "cell_type": "markdown",
   "id": "5f4f1f96",
   "metadata": {},
   "source": [
    "Функция eig"
   ]
  },
  {
   "cell_type": "code",
   "execution_count": 14,
   "id": "f8c6205f",
   "metadata": {
    "scrolled": true
   },
   "outputs": [
    {
     "name": "stdout",
     "output_type": "stream",
     "text": [
      "[[ 5  6  3]\n",
      " [-1  0  1]\n",
      " [ 1  2 -1]]\n",
      "\n",
      "\n",
      "[-2.+0.j  4.+0.j  2.+0.j]\n",
      "[[-3.26843061e-16 -9.70494959e-01 -8.94427191e-01]\n",
      " [-4.47213595e-01  2.15665546e-01  4.47213595e-01]\n",
      " [ 8.94427191e-01 -1.07832773e-01  2.41495254e-16]]\n"
     ]
    }
   ],
   "source": [
    "import numpy as np\n",
    "import scipy.linalg as sla\n",
    "\n",
    "A = np.array([[5, 6, 3],[-1, 0, 1], [1, 2, -1]])\n",
    "print(A)\n",
    "print('\\n')\n",
    "\n",
    "evalues,evectors = sla.eig(A)\n",
    "\n",
    "print(evalues)\n",
    "print(evectors)\n"
   ]
  },
  {
   "cell_type": "code",
   "execution_count": 2,
   "id": "3a81db61",
   "metadata": {},
   "outputs": [
    {
     "data": {
      "text/plain": [
       "array([ 0.81649658,  0.40824829, -0.40824829])"
      ]
     },
     "execution_count": 2,
     "metadata": {},
     "output_type": "execute_result"
    }
   ],
   "source": [
    "P = evectors[:,0]\n",
    "P"
   ]
  },
  {
   "cell_type": "code",
   "execution_count": 3,
   "id": "30246d30",
   "metadata": {},
   "outputs": [],
   "source": [
    "n = 100\n",
    "A = np.array(np.random.randn(n,n))"
   ]
  },
  {
   "cell_type": "code",
   "execution_count": 4,
   "id": "fb26b0d7",
   "metadata": {},
   "outputs": [
    {
     "name": "stdout",
     "output_type": "stream",
     "text": [
      "3.2 ms ± 148 µs per loop (mean ± std. dev. of 7 runs, 100 loops each)\n"
     ]
    }
   ],
   "source": [
    "%timeit evalues,evectors = sla.eig(A) "
   ]
  },
  {
   "cell_type": "code",
   "execution_count": 16,
   "id": "ee9df4fe",
   "metadata": {},
   "outputs": [
    {
     "name": "stdout",
     "output_type": "stream",
     "text": [
      "[[ 0.97052067]\n",
      " [-0.21547804]\n",
      " [ 0.10797616]]\n",
      "[[ 0.97051884]\n",
      " [-0.21554794]\n",
      " [ 0.10785299]]\n",
      "diff norm: 0.0001416373270551295\n"
     ]
    }
   ],
   "source": [
    "A = np.array([[5, 6, 3],[-1, 0, 1], [1, 2, -1]])\n",
    "X = np.array([[1],[1],[1]])\n",
    "\n",
    "m = 0\n",
    "while (m < 10):\n",
    "    X = A@X\n",
    "    X = X/sla.norm(X)\n",
    "    m = m + 1\n",
    "    \n",
    "print(X)\n",
    "\n",
    "Y = A@X\n",
    "Y = Y/sla.norm(Y)\n",
    "print(Y)\n",
    "\n",
    "\n",
    "if (Y[0]*X[0] < 0):\n",
    "    Y = np.multiply(Y,-1)\n",
    "Y = np.subtract(X, Y)\n",
    "print(\"diff norm:\", sla.norm(Y))"
   ]
  },
  {
   "cell_type": "code",
   "execution_count": 11,
   "id": "4982c9dc",
   "metadata": {},
   "outputs": [
    {
     "name": "stdout",
     "output_type": "stream",
     "text": [
      "diff norm: 0.0029785324755029156\n"
     ]
    }
   ],
   "source": [
    "n = 200\n",
    "A = np.array(np.random.randn(n,n))\n",
    "A = (A + A.T)/2\n",
    "\n",
    "X = np.array([0]*n)\n",
    "X[0]=1\n",
    "\n",
    "\n",
    "m = 0\n",
    "while (m < 100):\n",
    "    X = A@X\n",
    "    X = X/sla.norm(X)\n",
    "    m = m + 1\n",
    "    \n",
    "Y = A@X\n",
    "Y = Y/sla.norm(Y)\n",
    "if (Y[0]*X[0] < 0):\n",
    "    Y = np.multiply(Y,-1)\n",
    "Y = np.subtract(X, Y)\n",
    "print(\"diff norm:\", sla.norm(Y))\n"
   ]
  },
  {
   "cell_type": "code",
   "execution_count": null,
   "id": "5e41d4e4",
   "metadata": {},
   "outputs": [],
   "source": []
  }
 ],
 "metadata": {
  "kernelspec": {
   "display_name": "Python 3 (ipykernel)",
   "language": "python",
   "name": "python3"
  },
  "language_info": {
   "codemirror_mode": {
    "name": "ipython",
    "version": 3
   },
   "file_extension": ".py",
   "mimetype": "text/x-python",
   "name": "python",
   "nbconvert_exporter": "python",
   "pygments_lexer": "ipython3",
   "version": "3.9.7"
  }
 },
 "nbformat": 4,
 "nbformat_minor": 5
}

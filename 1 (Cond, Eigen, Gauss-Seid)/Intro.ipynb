{
 "cells": [
  {
   "cell_type": "markdown",
   "id": "76402667",
   "metadata": {},
   "source": [
    "# Пример - вычисление собственных значений"
   ]
  },
  {
   "cell_type": "code",
   "execution_count": 1,
   "id": "99dfef36",
   "metadata": {},
   "outputs": [
    {
     "name": "stdout",
     "output_type": "stream",
     "text": [
      "[[   1. 1000.]\n",
      " [   0.    1.]]\n",
      "[[1.e+00 1.e+03]\n",
      " [1.e-03 1.e+00]]\n"
     ]
    }
   ],
   "source": [
    "import numpy as np \n",
    "import scipy.linalg as la \n",
    "\n",
    "A = np.array([[1., 1000], [0, 1]])\n",
    "B = np.array([[1, 1000], [0.001, 1]])\n",
    "\n",
    "print(A)\n",
    "\n",
    "print(B)"
   ]
  },
  {
   "cell_type": "code",
   "execution_count": 2,
   "id": "201866d2",
   "metadata": {},
   "outputs": [],
   "source": [
    "np.set_printoptions(suppress=True, precision=8)"
   ]
  },
  {
   "cell_type": "code",
   "execution_count": 3,
   "id": "4c1d1473",
   "metadata": {},
   "outputs": [
    {
     "data": {
      "text/plain": [
       "(array([1.+0.j, 1.+0.j]), array([ 2.+0.j, -0.+0.j]))"
      ]
     },
     "execution_count": 3,
     "metadata": {},
     "output_type": "execute_result"
    }
   ],
   "source": [
    "wA, vrA = la.eig(A)\n",
    "wB, vrB = la.eig(B)\n",
    "\n",
    "wA, wB"
   ]
  },
  {
   "cell_type": "code",
   "execution_count": 5,
   "id": "eacf6e32",
   "metadata": {},
   "outputs": [
    {
     "data": {
      "text/plain": [
       "array([[ 0.9999995, -0.9999995],\n",
       "       [ 0.001    ,  0.001    ]])"
      ]
     },
     "execution_count": 5,
     "metadata": {},
     "output_type": "execute_result"
    }
   ],
   "source": [
    "vrB"
   ]
  },
  {
   "cell_type": "code",
   "execution_count": null,
   "id": "a5e6695e",
   "metadata": {},
   "outputs": [],
   "source": []
  }
 ],
 "metadata": {
  "kernelspec": {
   "display_name": "Python 3 (ipykernel)",
   "language": "python",
   "name": "python3"
  },
  "language_info": {
   "codemirror_mode": {
    "name": "ipython",
    "version": 3
   },
   "file_extension": ".py",
   "mimetype": "text/x-python",
   "name": "python",
   "nbconvert_exporter": "python",
   "pygments_lexer": "ipython3",
   "version": "3.9.7"
  }
 },
 "nbformat": 4,
 "nbformat_minor": 5
}

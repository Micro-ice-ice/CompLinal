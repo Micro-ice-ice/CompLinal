{
 "cells": [
  {
   "cell_type": "markdown",
   "id": "b116eac2",
   "metadata": {},
   "source": [
    "# QR разложение"
   ]
  },
  {
   "cell_type": "code",
   "execution_count": 2,
   "id": "89cf6b17",
   "metadata": {},
   "outputs": [],
   "source": [
    "import numpy as np\n",
    "import scipy.linalg as sla"
   ]
  },
  {
   "cell_type": "code",
   "execution_count": 28,
   "id": "194967c2",
   "metadata": {},
   "outputs": [],
   "source": [
    "#A = np.array([[1, 3, 2, 0], [0, -1, -1, 0], [2, 2, 1, 1], [-1, 1, 3, 4],[-4, 0, 1, -2],[0, -1, -2, 5]])\n",
    "A = np.array([[1, 3, 2, 0], [0, -1, -1, 0], [2, 2, 1, 1], [-1, 1, 3, 4]])\n",
    "\n",
    "# Slice out the columns of A for processing\n",
    "A_1 = A[:,0:1]\n",
    "A_2 = A[:,1:2]\n",
    "A_3 = A[:,2:3]\n",
    "A_4 = A[:,3:4]"
   ]
  },
  {
   "cell_type": "code",
   "execution_count": 22,
   "id": "3e8d632c",
   "metadata": {},
   "outputs": [
    {
     "name": "stdout",
     "output_type": "stream",
     "text": [
      "Q\n",
      "[[ 4.08248290e-01  6.66666667e-01 -5.18544973e-01  3.46410162e-01]\n",
      " [ 0.00000000e+00 -3.33333333e-01  1.88561808e-01  9.23760431e-01]\n",
      " [ 8.16496581e-01 -1.48029737e-16  5.65685425e-01 -1.15470054e-01]\n",
      " [-4.08248290e-01  6.66666667e-01  6.12825877e-01  1.15470054e-01]] \n",
      "\n",
      "QTQ\n",
      "[[ 1. -0.  0.  0.]\n",
      " [-0.  1.  0. -0.]\n",
      " [ 0.  0.  1. -0.]\n",
      " [ 0. -0. -0.  1.]] \n",
      "\n",
      "Q\n",
      "[[ 4.08248290e-01  6.66666667e-01 -5.18544973e-01  3.46410162e-01]\n",
      " [ 0.00000000e+00 -3.33333333e-01  1.88561808e-01  9.23760431e-01]\n",
      " [ 8.16496581e-01 -1.48029737e-16  5.65685425e-01 -1.15470054e-01]\n",
      " [-4.08248290e-01  6.66666667e-01  6.12825877e-01  1.15470054e-01]] \n",
      "\n",
      "R\n",
      "[[ 2.44948974  2.44948974  0.40824829 -0.81649658]\n",
      " [-0.          3.          3.66666667  2.66666667]\n",
      " [ 0.          0.          1.1785113   3.01698893]\n",
      " [ 0.         -0.         -0.          0.34641016]] \n",
      "\n",
      "QR\n",
      "[[ 1.  3.  2. -0.]\n",
      " [ 0. -1. -1. -0.]\n",
      " [ 2.  2.  1.  1.]\n",
      " [-1.  1.  3.  4.]]\n"
     ]
    }
   ],
   "source": [
    "# Carry out Gram-Schmidt process\n",
    "U_1 = A_1/sla.norm(A_1)\n",
    "W_2 = A_2 - np.dot(np.transpose(A_2),U_1)*U_1\n",
    "U_2 = W_2/sla.norm(W_2)\n",
    "W_3 = A_3 - np.dot(np.transpose(A_3),U_1)*U_1 - np.dot(np.transpose(A_3),U_2)*U_2\n",
    "U_3 = W_3/sla.norm(W_3)\n",
    "W_4 = A_4 - np.dot(np.transpose(A_4),U_1)*U_1 - np.dot(np.transpose(A_4),U_2)*U_2 - np.dot(np.transpose(A_4),U_3)*U_3\n",
    "U_4 = W_4/sla.norm(W_4)\n",
    "\n",
    "# Assemble the matrix Q\n",
    "\n",
    "Q = np.hstack((U_1,U_2,U_3,U_4))\n",
    "print(\"Q\")\n",
    "print(Q,'\\n')\n",
    "\n",
    "# Check that Q is orthogonal\n",
    "\n",
    "print(\"QTQ\")\n",
    "print(np.round(Q.transpose()@Q),'\\n')\n",
    "\n",
    "# Compute R\n",
    "\n",
    "R = Q.transpose()@A\n",
    "\n",
    "#  Check\n",
    "\n",
    "print(\"Q\")\n",
    "print(Q,'\\n')\n",
    "print(\"R\")\n",
    "print(np.round(R,8),'\\n')\n",
    "print(\"QR\")\n",
    "print(np.round(Q@R))"
   ]
  },
  {
   "cell_type": "code",
   "execution_count": 7,
   "id": "553c51e0",
   "metadata": {},
   "outputs": [],
   "source": [
    "def QRFactorization(A):\n",
    "    \n",
    "\n",
    "    # Check shape of A\n",
    "    if (A.shape[0] < A.shape[1]):\n",
    "        print(\"A must have more rows than columns for QR factorization.\")\n",
    "        return\n",
    "\n",
    "    #m = A.shape[0]\n",
    "    n = A.shape[1]\n",
    "    \n",
    "    #Q = np.zeros((m,n))\n",
    "    Q = np.zeros((n,n))\n",
    "    R = np.zeros((n,n))\n",
    "    \n",
    "    for i in range(n):\n",
    "        W = A[:,i:i+1]\n",
    "        for j in range(i):\n",
    "                W = W - np.dot(np.transpose(A[:,i:i+1]),Q[:,j:j+1])*Q[:,j:j+1]\n",
    "        Q[:,i:i+1] = W/sla.norm(W)\n",
    "        \n",
    "    R = Q.transpose()@A\n",
    "    \n",
    "    return (Q,R)"
   ]
  },
  {
   "cell_type": "code",
   "execution_count": 30,
   "id": "2a943dc8",
   "metadata": {},
   "outputs": [],
   "source": [
    "[Q,R] =  QRFactorization(A)"
   ]
  },
  {
   "cell_type": "code",
   "execution_count": 39,
   "id": "89529649",
   "metadata": {},
   "outputs": [
    {
     "name": "stdout",
     "output_type": "stream",
     "text": [
      "[[ 4.08248290e-01  6.66666667e-01 -5.18544973e-01  3.46410162e-01]\n",
      " [ 0.00000000e+00 -3.33333333e-01  1.88561808e-01  9.23760431e-01]\n",
      " [ 8.16496581e-01 -1.48029737e-16  5.65685425e-01 -1.15470054e-01]\n",
      " [-4.08248290e-01  6.66666667e-01  6.12825877e-01  1.15470054e-01]]\n",
      "[[ 4.08248290e-01  0.00000000e+00  8.16496581e-01 -4.08248290e-01]\n",
      " [ 6.66666667e-01 -3.33333333e-01 -1.48029737e-16  6.66666667e-01]\n",
      " [-5.18544973e-01  1.88561808e-01  5.65685425e-01  6.12825877e-01]\n",
      " [ 3.46410162e-01  9.23760431e-01 -1.15470054e-01  1.15470054e-01]]\n",
      "[[ 1.  3.  2. -0.]\n",
      " [ 0. -1. -1. -0.]\n",
      " [ 2.  2.  1.  1.]\n",
      " [-1.  1.  3.  4.]]\n"
     ]
    }
   ],
   "source": [
    "print(Q)\n",
    "print(Q.transpose())\n",
    "print(np.round(Q@R))"
   ]
  },
  {
   "cell_type": "code",
   "execution_count": 43,
   "id": "aeee78a2",
   "metadata": {},
   "outputs": [],
   "source": [
    "A = np.array([[1, 2], [3, 1]])\n",
    "B = np.array([[2, 2], [-1, -1]])"
   ]
  },
  {
   "cell_type": "code",
   "execution_count": 45,
   "id": "0e949062",
   "metadata": {},
   "outputs": [
    {
     "data": {
      "text/plain": [
       "array([[0, 0],\n",
       "       [5, 5]])"
      ]
     },
     "execution_count": 45,
     "metadata": {},
     "output_type": "execute_result"
    }
   ],
   "source": [
    "A@B"
   ]
  },
  {
   "cell_type": "code",
   "execution_count": 20,
   "id": "f8fab741",
   "metadata": {},
   "outputs": [],
   "source": [
    "n = 10\n",
    "A = np.array(np.random.randn(n,n))"
   ]
  },
  {
   "cell_type": "code",
   "execution_count": 21,
   "id": "ed75bedd",
   "metadata": {},
   "outputs": [
    {
     "name": "stdout",
     "output_type": "stream",
     "text": [
      "433 µs ± 28.6 µs per loop (mean ± std. dev. of 7 runs, 1000 loops each)\n"
     ]
    }
   ],
   "source": [
    "%timeit [Q,R] =  QRFactorization(A)"
   ]
  },
  {
   "cell_type": "code",
   "execution_count": 22,
   "id": "58941c54",
   "metadata": {},
   "outputs": [
    {
     "name": "stdout",
     "output_type": "stream",
     "text": [
      "38.7 µs ± 1.57 µs per loop (mean ± std. dev. of 7 runs, 10000 loops each)\n"
     ]
    }
   ],
   "source": [
    "%timeit Qs,Rs = sla.qr(A)"
   ]
  },
  {
   "cell_type": "code",
   "execution_count": 24,
   "id": "6fe094b9",
   "metadata": {},
   "outputs": [],
   "source": [
    "[Q,R] =  QRFactorization(A)"
   ]
  },
  {
   "cell_type": "code",
   "execution_count": 26,
   "id": "2879f629",
   "metadata": {},
   "outputs": [
    {
     "name": "stdout",
     "output_type": "stream",
     "text": [
      "2.54 µs ± 473 ns per loop (mean ± std. dev. of 7 runs, 100000 loops each)\n"
     ]
    }
   ],
   "source": [
    "%timeit R = Q.transpose()@A"
   ]
  }
 ],
 "metadata": {
  "kernelspec": {
   "display_name": "Python 3 (ipykernel)",
   "language": "python",
   "name": "python3"
  },
  "language_info": {
   "codemirror_mode": {
    "name": "ipython",
    "version": 3
   },
   "file_extension": ".py",
   "mimetype": "text/x-python",
   "name": "python",
   "nbconvert_exporter": "python",
   "pygments_lexer": "ipython3",
   "version": "3.9.7"
  }
 },
 "nbformat": 4,
 "nbformat_minor": 5
}

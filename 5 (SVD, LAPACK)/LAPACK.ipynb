{
 "cells": [
  {
   "cell_type": "markdown",
   "id": "438b7e83",
   "metadata": {},
   "source": [
    "# LAPACK"
   ]
  },
  {
   "cell_type": "markdown",
   "id": "c48aca81",
   "metadata": {},
   "source": [
    "интерфейс Python:\n",
    "\n",
    "https://docs.scipy.org/doc/scipy/reference/linalg.lapack.html\n",
    "\n",
    "Подробный гайд по LAPACK:\n",
    "\n",
    "https://netlib.org/lapack/\n",
    "\n",
    "https://netlib.org/lapack/explore-html/index.html\n",
    "\n",
    "\n",
    "\n"
   ]
  },
  {
   "cell_type": "code",
   "execution_count": 1,
   "id": "cc133c64",
   "metadata": {},
   "outputs": [],
   "source": [
    "from scipy.linalg import lapack\n",
    "import scipy.linalg as la\n",
    "import numpy as np\n"
   ]
  },
  {
   "cell_type": "code",
   "execution_count": 6,
   "id": "4da43e87",
   "metadata": {},
   "outputs": [
    {
     "name": "stdout",
     "output_type": "stream",
     "text": [
      "(100, 100)\n",
      "8.3357539355405e-15\n"
     ]
    }
   ],
   "source": [
    "n = 100\n",
    "A = np.array(np.random.randn(n, n), order='F')\n",
    "\n",
    "def get_Q_qr(A):\n",
    "    Q, R = la.qr(A, mode='economic')\n",
    "    return Q\n",
    "\n",
    "Q = get_Q_qr(A)\n",
    "\n",
    "print(Q.shape)\n",
    "print(np.linalg.norm(Q.T @ Q - np.eye(n))) # measure how close Q is to orthogonal"
   ]
  },
  {
   "cell_type": "code",
   "execution_count": 9,
   "id": "4b3bbdca",
   "metadata": {},
   "outputs": [],
   "source": [
    "def get_Q_lapack(A):\n",
    "    qr, tau, work,  info = lapack.dgeqrf(A)\n",
    "    Q, work, info = lapack.dorgqr(qr, tau)\n",
    "    return Q"
   ]
  },
  {
   "cell_type": "code",
   "execution_count": 10,
   "id": "79cec506",
   "metadata": {},
   "outputs": [
    {
     "name": "stdout",
     "output_type": "stream",
     "text": [
      "(100, 100)\n",
      "8.359958674706959e-15\n"
     ]
    }
   ],
   "source": [
    "A = np.array(np.random.randn(n, n), order='F')\n",
    "Q = get_Q_lapack(A)\n",
    "\n",
    "print(Q.shape)\n",
    "print(np.linalg.norm(Q.T @ Q - np.eye(n))) # measure how close Q is to orthogonal"
   ]
  },
  {
   "cell_type": "code",
   "execution_count": 13,
   "id": "05ba1dd3",
   "metadata": {},
   "outputs": [
    {
     "name": "stdout",
     "output_type": "stream",
     "text": [
      "14.142234647957673\n"
     ]
    }
   ],
   "source": [
    "print(np.linalg.norm(Q - Q2))"
   ]
  },
  {
   "cell_type": "markdown",
   "id": "950c20f6",
   "metadata": {},
   "source": [
    "Перезаписывать A:"
   ]
  },
  {
   "cell_type": "code",
   "execution_count": 18,
   "id": "a5c6c178",
   "metadata": {},
   "outputs": [
    {
     "name": "stdout",
     "output_type": "stream",
     "text": [
      "(100, 100)\n",
      "8.577713101898027e-15\n",
      "0.0\n"
     ]
    }
   ],
   "source": [
    "def get_Q_inplace(A):\n",
    "    m, n = A.shape\n",
    "    lwork = max(3*n, 1)\n",
    "    qr, tau, work, info = lapack.dgeqrf(A, lwork, 1) # overwrite A = True\n",
    "    Q, work, info = lapack.dorgqr(qr, tau, lwork, 1) # overwrite qr = True\n",
    "    return Q\n",
    "\n",
    "A = np.array(np.random.randn(n, n), order='F')\n",
    "Q = get_Q_inplace(A)\n",
    "\n",
    "print(Q.shape)\n",
    "print(np.linalg.norm(Q.T @ Q - np.eye(n))) # measure how close Q is to orthogonal\n",
    "print(np.linalg.norm(A - Q)) # A now contains Q"
   ]
  },
  {
   "cell_type": "markdown",
   "id": "8bfb4cd4",
   "metadata": {},
   "source": [
    "Измерим время:"
   ]
  },
  {
   "cell_type": "code",
   "execution_count": 20,
   "id": "6288fed0",
   "metadata": {},
   "outputs": [],
   "source": [
    "import time"
   ]
  },
  {
   "cell_type": "code",
   "execution_count": 36,
   "id": "55c93f73",
   "metadata": {},
   "outputs": [
    {
     "name": "stdout",
     "output_type": "stream",
     "text": [
      "timing <function get_Q_qr at 0x0000022082567430>\n",
      "  time elapsed = 0.006981849670410156 sec.\n",
      "timing <function get_Q_lapack at 0x0000022083FB2940>\n",
      "  time elapsed = 0.005983829498291016 sec.\n",
      "timing <function get_Q_inplace at 0x0000022083FB28B0>\n",
      "  time elapsed = 0.001995086669921875 sec.\n"
     ]
    }
   ],
   "source": [
    "n = 256\n",
    "\n",
    "for get_Q in (get_Q_qr, get_Q_lapack, get_Q_inplace):\n",
    "    \n",
    "    print(\"timing {}\".format(get_Q))\n",
    "    A = np.array(np.random.randn(n, n), order='F')\n",
    "    t0 = time.time()\n",
    "    Q = get_Q(A)\n",
    "    t1 = time.time()\n",
    "    print(\"  time elapsed = {} sec.\".format(t1 - t0))  "
   ]
  },
  {
   "cell_type": "code",
   "execution_count": 38,
   "id": "fdf779c9",
   "metadata": {},
   "outputs": [
    {
     "name": "stdout",
     "output_type": "stream",
     "text": [
      "768\n"
     ]
    }
   ],
   "source": []
  },
  {
   "cell_type": "code",
   "execution_count": null,
   "id": "577f953b",
   "metadata": {},
   "outputs": [],
   "source": []
  }
 ],
 "metadata": {
  "kernelspec": {
   "display_name": "Python 3 (ipykernel)",
   "language": "python",
   "name": "python3"
  },
  "language_info": {
   "codemirror_mode": {
    "name": "ipython",
    "version": 3
   },
   "file_extension": ".py",
   "mimetype": "text/x-python",
   "name": "python",
   "nbconvert_exporter": "python",
   "pygments_lexer": "ipython3",
   "version": "3.9.7"
  }
 },
 "nbformat": 4,
 "nbformat_minor": 5
}

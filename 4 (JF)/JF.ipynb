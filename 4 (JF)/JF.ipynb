{
 "cells": [
  {
   "cell_type": "code",
   "execution_count": null,
   "id": "a9e41419",
   "metadata": {},
   "outputs": [],
   "source": [
    "import numpy as np\n",
    "import scipy.linalg as sla"
   ]
  },
  {
   "cell_type": "markdown",
   "id": "a7b6ae02",
   "metadata": {},
   "source": [
    "## Собственные значения и векторы"
   ]
  },
  {
   "cell_type": "code",
   "execution_count": null,
   "id": "22032c35",
   "metadata": {},
   "outputs": [],
   "source": [
    "A = np.array([[5,6,3],[-1,0,1],[1,2,-1]]) # три собственных значения, три собственных вектора\n",
    "[w, v] = sla.eig(A)\n",
    "print(np.round(w, decimals = 2))\n",
    "print(np.round(v, decimals = 2))"
   ]
  },
  {
   "cell_type": "code",
   "execution_count": null,
   "id": "00e13108",
   "metadata": {},
   "outputs": [],
   "source": [
    "A = np.array([[4,1,-1],[1,4,-1],[-1,-1,4]])  # два собственных значения, три собственных вектора\n",
    "[w, v] = sla.eig(A)\n",
    "print(np.round(w, decimals = 2))\n",
    "print(np.round(v, decimals = 2))"
   ]
  },
  {
   "cell_type": "code",
   "execution_count": null,
   "id": "18bb46a8",
   "metadata": {},
   "outputs": [],
   "source": [
    "A = np.array([[1,1],[0,1]])\n",
    "[w, v] = sla.eig(A)\n",
    "print(np.round(w, decimals = 2))\n",
    "print(np.round(v, decimals = 2))"
   ]
  },
  {
   "cell_type": "code",
   "execution_count": null,
   "id": "0f0c920f",
   "metadata": {},
   "outputs": [],
   "source": [
    "A = np.array([[4,-5,2],[5,-7,3],[6,-9,4]])\n",
    "[w, v] = sla.eig(A)     # два собственных значения, два собственных вектора\n",
    "print(np.round(w, decimals = 2))\n",
    "print(np.round(v, decimals = 2))"
   ]
  },
  {
   "cell_type": "markdown",
   "id": "fc15e96d",
   "metadata": {},
   "source": [
    "## Ранг матрицы"
   ]
  },
  {
   "cell_type": "code",
   "execution_count": null,
   "id": "be5a5078",
   "metadata": {},
   "outputs": [],
   "source": [
    "from numpy.linalg import matrix_rank"
   ]
  },
  {
   "cell_type": "code",
   "execution_count": null,
   "id": "c3172f76",
   "metadata": {},
   "outputs": [],
   "source": [
    "A = np.array([[1,1],[0,1]])\n",
    "r = matrix_rank(A)\n",
    "print(r)"
   ]
  },
  {
   "cell_type": "code",
   "execution_count": null,
   "id": "a4804713",
   "metadata": {},
   "outputs": [],
   "source": [
    "A = np.array([[4,-5,2],[5,-7,3],[6,-9,4]])  #  имеет нулевое собственное значение\n",
    "r = matrix_rank(A)\n",
    "print(r)"
   ]
  },
  {
   "cell_type": "code",
   "execution_count": null,
   "id": "f3a8dcfb",
   "metadata": {},
   "outputs": [],
   "source": [
    "A = np.array([[4.01,-5,2],[5,-7,3],[6,-9,4]])  #  имеет нулевое собственное значение\n",
    "r = matrix_rank(A, tol = 1e-6)\n",
    "print(r)"
   ]
  },
  {
   "cell_type": "code",
   "execution_count": null,
   "id": "7153aa62",
   "metadata": {},
   "outputs": [],
   "source": [
    "A = np.array([[4.01,-5,2],[5,-7,3],[6,-9,4]])  #  имеет нулевое собственное значение\n",
    "r = matrix_rank(A, tol = 1e-3)\n",
    "print(r)"
   ]
  },
  {
   "cell_type": "code",
   "execution_count": null,
   "id": "3e2f69a7",
   "metadata": {},
   "outputs": [],
   "source": [
    "A = np.array([[1,1],[2,2.001]])  #  имеет нулевое собственное значение\n",
    "r = matrix_rank(A, tol = 1e-10)\n",
    "print(r)"
   ]
  },
  {
   "cell_type": "markdown",
   "id": "113ff9d1",
   "metadata": {},
   "source": [
    "Задание: написать функцию, которая принимает на вход квадратную матрицу (и её размер, если нужно), а на выходе выдаёт Жорданову форму этой матрицы. Жорданов базис вычислять не нужно."
   ]
  },
  {
   "cell_type": "code",
   "execution_count": null,
   "id": "eb280e3e",
   "metadata": {},
   "outputs": [],
   "source": []
  }
 ],
 "metadata": {
  "kernelspec": {
   "display_name": "Python 3 (ipykernel)",
   "language": "python",
   "name": "python3"
  },
  "language_info": {
   "codemirror_mode": {
    "name": "ipython",
    "version": 3
   },
   "file_extension": ".py",
   "mimetype": "text/x-python",
   "name": "python",
   "nbconvert_exporter": "python",
   "pygments_lexer": "ipython3",
   "version": "3.9.7"
  }
 },
 "nbformat": 4,
 "nbformat_minor": 5
}

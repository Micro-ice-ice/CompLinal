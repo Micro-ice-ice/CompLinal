{
 "cells": [
  {
   "cell_type": "markdown",
   "id": "8bd2587a",
   "metadata": {},
   "source": [
    "# Библиотека BLAS"
   ]
  },
  {
   "cell_type": "markdown",
   "id": "7640b84a",
   "metadata": {},
   "source": [
    "Полезные ссылки:\n",
    "\n",
    "https://docs.scipy.org/doc/scipy/reference/linalg.blas.html\n",
    "https://www.math.utah.edu/software/lapack/#generalinformation\n",
    "https://www.netlib.org/blas/\n",
    "https://www.netlib.org/lapack/\n",
    "\n",
    "Последние две ссылки могут не открываться без vpn"
   ]
  },
  {
   "cell_type": "code",
   "execution_count": 150,
   "id": "f89cdeb9",
   "metadata": {},
   "outputs": [],
   "source": [
    "from scipy.linalg import blas\n",
    "import numpy as np\n",
    "import scipy as sp"
   ]
  },
  {
   "cell_type": "code",
   "execution_count": 21,
   "id": "5318e6a6",
   "metadata": {},
   "outputs": [],
   "source": [
    "n = 3\n",
    "A = np.array([[1,2,3],[4,5,6],[7,8,9]])\n",
    "B = np.array([[1,2,3],[4,5,6],[7,8,9]], order = 'F')"
   ]
  },
  {
   "cell_type": "code",
   "execution_count": 22,
   "id": "788f1fc9",
   "metadata": {},
   "outputs": [
    {
     "name": "stdout",
     "output_type": "stream",
     "text": [
      "1 2 3 4 5 6 7 8 9 \n",
      "\n",
      "1 2 3 4 5 6 7 8 9 "
     ]
    }
   ],
   "source": [
    "for cell in A.flatten():\n",
    "    print(cell, end=' ')\n",
    "\n",
    "print('\\n')\n",
    "    \n",
    "for cell in B.flatten():\n",
    "    print(cell, end=' ')"
   ]
  },
  {
   "cell_type": "code",
   "execution_count": 23,
   "id": "fb2507c3",
   "metadata": {},
   "outputs": [
    {
     "name": "stdout",
     "output_type": "stream",
     "text": [
      "1 2 3 4 5 6 7 8 9 "
     ]
    }
   ],
   "source": [
    "for x in np.nditer(A):\n",
    "    print(x, end=' ')"
   ]
  },
  {
   "cell_type": "code",
   "execution_count": 24,
   "id": "c2f81cf1",
   "metadata": {},
   "outputs": [
    {
     "name": "stdout",
     "output_type": "stream",
     "text": [
      "1 4 7 2 5 8 3 6 9 "
     ]
    }
   ],
   "source": [
    "for x in np.nditer(B):\n",
    "    print(x, end=' ')"
   ]
  },
  {
   "cell_type": "code",
   "execution_count": 168,
   "id": "84a998e6",
   "metadata": {},
   "outputs": [],
   "source": [
    "n = 4096\n",
    "A = np.array(np.random.randn(n,n), order='F')\n",
    "B = np.array(np.random.randn(n,n), order='F')"
   ]
  },
  {
   "cell_type": "code",
   "execution_count": 28,
   "id": "868b99f1",
   "metadata": {},
   "outputs": [
    {
     "data": {
      "text/plain": [
       "6.5909336550608786e-12"
      ]
     },
     "execution_count": 28,
     "metadata": {},
     "output_type": "execute_result"
    }
   ],
   "source": [
    "C_np = A @ B # numpy  C = A * B\n",
    "C_blas = blas.dgemm(1.0, A, B) # BLAS C = A * B\n",
    "np.linalg.norm(C_np - C_blas)"
   ]
  },
  {
   "cell_type": "code",
   "execution_count": 170,
   "id": "d232f3cb",
   "metadata": {},
   "outputs": [
    {
     "name": "stdout",
     "output_type": "stream",
     "text": [
      "1.92 s ± 155 ms per loop (mean ± std. dev. of 7 runs, 1 loop each)\n"
     ]
    }
   ],
   "source": [
    "%timeit C_np = np.matmul(A,B) # numpy"
   ]
  },
  {
   "cell_type": "code",
   "execution_count": 169,
   "id": "fcb75737",
   "metadata": {},
   "outputs": [
    {
     "name": "stdout",
     "output_type": "stream",
     "text": [
      "1.85 s ± 74.6 ms per loop (mean ± std. dev. of 7 runs, 1 loop each)\n"
     ]
    }
   ],
   "source": [
    "%timeit C_blas = blas.dgemm(1.0, A, B) # blas"
   ]
  },
  {
   "cell_type": "code",
   "execution_count": 31,
   "id": "e8581e35",
   "metadata": {},
   "outputs": [],
   "source": [
    "n = 4096\n",
    "A = np.array(np.random.randn(n,n))\n",
    "B = np.array(np.random.randn(n,n))"
   ]
  },
  {
   "cell_type": "code",
   "execution_count": 32,
   "id": "dc5814f8",
   "metadata": {},
   "outputs": [
    {
     "name": "stdout",
     "output_type": "stream",
     "text": [
      "[[  32.03555559  127.94738428    8.28070363 ...  -70.77253561\n",
      "   128.14473562    9.32390935]\n",
      " [ -15.960679   -104.7011489    17.37997408 ...   89.80863209\n",
      "    28.53518697  -78.24360485]\n",
      " [ -30.03495269  -73.52294898  -66.39684318 ...  -62.90966927\n",
      "   -10.8076485    -7.3370816 ]\n",
      " ...\n",
      " [   3.13818585   55.97067653   28.69951213 ...   82.34773448\n",
      "    81.45329612    0.3814714 ]\n",
      " [  -3.01720301  -62.16570239   15.12528832 ...   32.830196\n",
      "   -15.64879037   26.6734063 ]\n",
      " [   0.48407073   78.68721623   17.68816809 ...  -75.1954028\n",
      "   -43.20803461   -1.11043817]]\n"
     ]
    }
   ],
   "source": [
    "C_blas = blas.dgemm(1.0, A, B)\n",
    "print(C_blas)"
   ]
  },
  {
   "cell_type": "code",
   "execution_count": 58,
   "id": "d59f4c5c",
   "metadata": {},
   "outputs": [],
   "source": [
    "def MatrMul(A,B,n):\n",
    "    \n",
    "    result = np.zeros((n,n))\n",
    "    for i in range(n):  \n",
    "        for j in range(n):\n",
    "            for k in range(len(B)):\n",
    "                result[i][j] += A[i][k] * B[k][j]\n",
    "                \n",
    "    return result"
   ]
  },
  {
   "cell_type": "code",
   "execution_count": 63,
   "id": "d3a08af0",
   "metadata": {},
   "outputs": [
    {
     "name": "stdout",
     "output_type": "stream",
     "text": [
      "[[1 1]\n",
      " [1 2]]\n",
      "[[ 2 -1]\n",
      " [ 0  1]]\n",
      "[[2. 0.]\n",
      " [2. 1.]]\n"
     ]
    }
   ],
   "source": [
    "A = np.array([[1,1],[1,2]], order = 'F')\n",
    "B = np.array([[2,-1],[0,1]], order = 'F')\n",
    "C = MatrMul(A,B,2)\n",
    "print(A)\n",
    "print(B)\n",
    "print(C)"
   ]
  },
  {
   "cell_type": "code",
   "execution_count": 190,
   "id": "6b43d2f2",
   "metadata": {},
   "outputs": [],
   "source": [
    "n = 100\n",
    "A = np.array(np.random.randn(n,n), order = 'F')\n",
    "B = np.array(np.random.randn(n,n), order = 'F')"
   ]
  },
  {
   "cell_type": "markdown",
   "id": "2b4e37a8",
   "metadata": {},
   "source": [
    "Попробуйте убрать *order = 'F'* и сравните время "
   ]
  },
  {
   "cell_type": "code",
   "execution_count": 192,
   "id": "28317ab4",
   "metadata": {},
   "outputs": [
    {
     "name": "stdout",
     "output_type": "stream",
     "text": [
      "34.3 µs ± 1.26 µs per loop (mean ± std. dev. of 7 runs, 10000 loops each)\n"
     ]
    }
   ],
   "source": [
    "%timeit C_blas = blas.dgemm(1.0, A, B) # blas"
   ]
  },
  {
   "cell_type": "code",
   "execution_count": 77,
   "id": "9f1e92f5",
   "metadata": {},
   "outputs": [
    {
     "name": "stdout",
     "output_type": "stream",
     "text": [
      "882 ms ± 21.7 ms per loop (mean ± std. dev. of 7 runs, 1 loop each)\n"
     ]
    }
   ],
   "source": [
    "%timeit C_our = MatrMul(A,B,n) # our"
   ]
  },
  {
   "cell_type": "markdown",
   "id": "0d05a4b2",
   "metadata": {},
   "source": [
    "**Названия функций в BLAS и LAPACK**\n",
    "\n",
    "blas.<точность><имя><объкты>\n",
    "\n",
    "<точность>:\n",
    "\n",
    "s: single precision float\n",
    "\n",
    "d: double precision float\n",
    "\n",
    "c: single precision complex float\n",
    "\n",
    "z: double precision complex float\n",
    "\n",
    "\n",
    "<имя> - тип операции или матрицы \n",
    "\n",
    "<объкты> - используемые объекты или информация об операции\n",
    "\n",
    "Пример:\n",
    "dgemm = d + ge + mm \n",
    "d - double precision, ge - general matrix, mm - matrix multiplication"
   ]
  },
  {
   "cell_type": "markdown",
   "id": "5715b67b",
   "metadata": {},
   "source": [
    "# BLAS Level 1"
   ]
  },
  {
   "cell_type": "markdown",
   "id": "f3d501fd",
   "metadata": {},
   "source": [
    "Операции вектор-вектор, число-вектор\n",
    "\n",
    "**_axpy** - операция вычисления *ax + y* (x,y - векторы, a - скаляр)\n",
    "\n",
    "**_dot** - скалярное произведение\n",
    "\n",
    "**_nrm2** - евклидова норма"
   ]
  },
  {
   "cell_type": "markdown",
   "id": "e831814b",
   "metadata": {},
   "source": [
    "## _axpy"
   ]
  },
  {
   "cell_type": "code",
   "execution_count": 78,
   "id": "14a9685f",
   "metadata": {},
   "outputs": [
    {
     "data": {
      "text/plain": [
       "0.0"
      ]
     },
     "execution_count": 78,
     "metadata": {},
     "output_type": "execute_result"
    }
   ],
   "source": [
    "n = 1000\n",
    "x = np.random.rand(n)\n",
    "y = np.random.rand(n)\n",
    "\n",
    "z = blas.daxpy(x, y, a=1.0)\n",
    "xx = blas.ddot(x, x)\n",
    "x2 = blas.dnrm2(x)\n",
    "np.sqrt(xx) - x2"
   ]
  },
  {
   "cell_type": "code",
   "execution_count": 96,
   "id": "bf16de7c",
   "metadata": {},
   "outputs": [
    {
     "name": "stdout",
     "output_type": "stream",
     "text": [
      "[2. 3. 4.]\n"
     ]
    }
   ],
   "source": [
    "x = np.array([1,2,3])\n",
    "y = np.array([1,1,1])    \n",
    "z = blas.daxpy(x, y, a=1.0)\n",
    "print(z)"
   ]
  },
  {
   "cell_type": "code",
   "execution_count": 95,
   "id": "dc34ebac",
   "metadata": {},
   "outputs": [
    {
     "data": {
      "text/plain": [
       "array([2, 3, 4])"
      ]
     },
     "execution_count": 95,
     "metadata": {},
     "output_type": "execute_result"
    }
   ],
   "source": [
    "x + y"
   ]
  },
  {
   "cell_type": "code",
   "execution_count": 99,
   "id": "c3539aa8",
   "metadata": {},
   "outputs": [
    {
     "name": "stdout",
     "output_type": "stream",
     "text": [
      "[[3.]\n",
      " [5.]\n",
      " [7.]]\n"
     ]
    }
   ],
   "source": [
    "x = np.array([1,2,3])\n",
    "y = np.array([[1],[1],[1]])    \n",
    "z = blas.daxpy(x, y, a=2.0)\n",
    "print(z)"
   ]
  },
  {
   "cell_type": "code",
   "execution_count": 100,
   "id": "52919662",
   "metadata": {},
   "outputs": [
    {
     "data": {
      "text/plain": [
       "array([[2, 3, 4],\n",
       "       [2, 3, 4],\n",
       "       [2, 3, 4]])"
      ]
     },
     "execution_count": 100,
     "metadata": {},
     "output_type": "execute_result"
    }
   ],
   "source": [
    "x + y"
   ]
  },
  {
   "cell_type": "markdown",
   "id": "5b75564e",
   "metadata": {},
   "source": [
    "## _dot"
   ]
  },
  {
   "cell_type": "code",
   "execution_count": 131,
   "id": "362d40f6",
   "metadata": {},
   "outputs": [
    {
     "name": "stdout",
     "output_type": "stream",
     "text": [
      "7.0\n"
     ]
    }
   ],
   "source": [
    "x = np.array([1,2,3]) #try  [[1],[2],[3]]\n",
    "y = np.array([2,1,1]) #try  [[2],[1],[1]]   \n",
    "z = blas.ddot(x, y)\n",
    "print(z)"
   ]
  },
  {
   "cell_type": "markdown",
   "id": "cb227567",
   "metadata": {},
   "source": [
    "https://numpy.org/doc/stable/reference/generated/numpy.dot.html"
   ]
  },
  {
   "cell_type": "code",
   "execution_count": 132,
   "id": "2e8fabcc",
   "metadata": {},
   "outputs": [
    {
     "name": "stdout",
     "output_type": "stream",
     "text": [
      "7\n"
     ]
    }
   ],
   "source": [
    "z = np.dot(x, y)\n",
    "print(z)"
   ]
  },
  {
   "cell_type": "code",
   "execution_count": 135,
   "id": "76d77eea",
   "metadata": {},
   "outputs": [],
   "source": [
    "n = 5000\n",
    "x = np.random.rand(n)\n",
    "y = np.random.rand(n)"
   ]
  },
  {
   "cell_type": "code",
   "execution_count": 144,
   "id": "ce0c82fb",
   "metadata": {},
   "outputs": [
    {
     "name": "stdout",
     "output_type": "stream",
     "text": [
      "1.59 µs ± 40.1 ns per loop (mean ± std. dev. of 7 runs, 1000000 loops each)\n"
     ]
    }
   ],
   "source": [
    "%timeit z = blas.ddot(x, y)"
   ]
  },
  {
   "cell_type": "code",
   "execution_count": 142,
   "id": "a7609391",
   "metadata": {},
   "outputs": [
    {
     "name": "stdout",
     "output_type": "stream",
     "text": [
      "3.3 µs ± 95.7 ns per loop (mean ± std. dev. of 7 runs, 100000 loops each)\n"
     ]
    }
   ],
   "source": [
    "%timeit z = np.dot(x, y)"
   ]
  },
  {
   "cell_type": "code",
   "execution_count": 143,
   "id": "4c913266",
   "metadata": {},
   "outputs": [
    {
     "name": "stdout",
     "output_type": "stream",
     "text": [
      "3.22 µs ± 70.5 ns per loop (mean ± std. dev. of 7 runs, 100000 loops each)\n"
     ]
    }
   ],
   "source": [
    "%timeit z = np.vdot(x, y)"
   ]
  },
  {
   "cell_type": "code",
   "execution_count": null,
   "id": "5b83717a",
   "metadata": {},
   "outputs": [],
   "source": [
    "%timeit z = np.vdot(x, y)"
   ]
  },
  {
   "cell_type": "markdown",
   "id": "273b0d38",
   "metadata": {},
   "source": [
    "Обратите внимание на разницу *cdotu* и *cdotc* в документации"
   ]
  },
  {
   "cell_type": "markdown",
   "id": "2437ac41",
   "metadata": {},
   "source": [
    "## _nrm2"
   ]
  },
  {
   "cell_type": "code",
   "execution_count": 157,
   "id": "55186986",
   "metadata": {},
   "outputs": [
    {
     "name": "stdout",
     "output_type": "stream",
     "text": [
      "3.0\n"
     ]
    }
   ],
   "source": [
    "x = np.array([2,-2,1])  #try [[2],[-2],[1]]\n",
    "\n",
    "xn = blas.dnrm2(x)\n",
    "print(xn)"
   ]
  },
  {
   "cell_type": "markdown",
   "id": "8de34cb8",
   "metadata": {},
   "source": [
    "numpy.linalg.norm\n",
    "\n",
    "https://numpy.org/doc/stable/reference/generated/numpy.linalg.norm.html   \n",
    "\n",
    "scipy.linangl\n",
    "\n",
    "https://docs.scipy.org/doc/scipy/reference/linalg.html"
   ]
  },
  {
   "cell_type": "code",
   "execution_count": 158,
   "id": "cca9a883",
   "metadata": {},
   "outputs": [
    {
     "name": "stdout",
     "output_type": "stream",
     "text": [
      "3.0\n",
      "3.0\n"
     ]
    }
   ],
   "source": [
    "xn = sp.linalg.norm(x)\n",
    "print(xn)\n",
    "xn = np.linalg.norm(x)\n",
    "print(xn)"
   ]
  },
  {
   "cell_type": "code",
   "execution_count": 162,
   "id": "579162e2",
   "metadata": {},
   "outputs": [],
   "source": [
    "n = 5000\n",
    "x = np.random.rand(n)"
   ]
  },
  {
   "cell_type": "code",
   "execution_count": 160,
   "id": "fbcddfa9",
   "metadata": {},
   "outputs": [
    {
     "name": "stdout",
     "output_type": "stream",
     "text": [
      "1.8 µs ± 95.2 ns per loop (mean ± std. dev. of 7 runs, 1000000 loops each)\n"
     ]
    }
   ],
   "source": [
    "%timeit xn = blas.dnrm2(x)"
   ]
  },
  {
   "cell_type": "code",
   "execution_count": 165,
   "id": "bd74b20f",
   "metadata": {},
   "outputs": [
    {
     "name": "stdout",
     "output_type": "stream",
     "text": [
      "8.73 µs ± 155 ns per loop (mean ± std. dev. of 7 runs, 100000 loops each)\n"
     ]
    }
   ],
   "source": [
    "%timeit xn = sp.linalg.norm(x)"
   ]
  },
  {
   "cell_type": "code",
   "execution_count": 164,
   "id": "0b6e9dca",
   "metadata": {},
   "outputs": [
    {
     "name": "stdout",
     "output_type": "stream",
     "text": [
      "7.37 µs ± 646 ns per loop (mean ± std. dev. of 7 runs, 100000 loops each)\n"
     ]
    }
   ],
   "source": [
    "%timeit xn = np.linalg.norm(x)"
   ]
  },
  {
   "cell_type": "markdown",
   "id": "bb1865cd",
   "metadata": {},
   "source": [
    "# BLAS Level 2"
   ]
  },
  {
   "cell_type": "markdown",
   "id": "992f1382",
   "metadata": {},
   "source": [
    "Операции матрица-вектор\n",
    "\n",
    "**_gemv** - умножение матрицы на вектор и скаляр:  *aAx* (a - скаляр, A - матрица, x - вектор)\n",
    "\n",
    "**_trmv** - умножение треугольной матрицы на вектор: *Lx*\n",
    "\n",
    "**_trsv** - решение СЛАУ с нижней треугольной матрицей: *inv(L)x*\n",
    "\n"
   ]
  },
  {
   "cell_type": "markdown",
   "id": "51f3361a",
   "metadata": {},
   "source": [
    "## _gemv"
   ]
  },
  {
   "cell_type": "code",
   "execution_count": 222,
   "id": "56ec6c86",
   "metadata": {
    "scrolled": true
   },
   "outputs": [
    {
     "name": "stdout",
     "output_type": "stream",
     "text": [
      "[-2. 16.]\n"
     ]
    }
   ],
   "source": [
    "x = np.array([[2],[1]])  # try [[2],[1]]\n",
    "A = np.array([[-1,1],[3,2]])\n",
    "alfa = 2.0\n",
    "\n",
    "y = blas.dgemv(alfa,A,x)\n",
    "print(y)"
   ]
  },
  {
   "cell_type": "markdown",
   "id": "7f7bbb39",
   "metadata": {},
   "source": [
    "## _trmv"
   ]
  },
  {
   "cell_type": "code",
   "execution_count": 229,
   "id": "f8e0ae81",
   "metadata": {},
   "outputs": [
    {
     "name": "stdout",
     "output_type": "stream",
     "text": [
      "[1. 2.]\n"
     ]
    }
   ],
   "source": [
    "x = np.array([2,1])  # try [[2],[1]]\n",
    "A = np.array([[-1,3],[1,2]])\n",
    "\n",
    "y = blas.dtrmv(A,x, lower = 0)\n",
    "print(y)"
   ]
  },
  {
   "cell_type": "markdown",
   "id": "7a4c94fa",
   "metadata": {},
   "source": [
    "## _trsv"
   ]
  },
  {
   "cell_type": "code",
   "execution_count": 234,
   "id": "0cd21aa0",
   "metadata": {},
   "outputs": [
    {
     "name": "stdout",
     "output_type": "stream",
     "text": [
      "[-2.   1.5]\n"
     ]
    }
   ],
   "source": [
    "x = np.array([2,1])  # try [[2],[1]]\n",
    "A = np.array([[-1,3],[1,2]])\n",
    "\n",
    "y = blas.dtrsv(A,x, lower = 1)\n",
    "print(y)"
   ]
  },
  {
   "cell_type": "code",
   "execution_count": null,
   "id": "fc602d7d",
   "metadata": {},
   "outputs": [],
   "source": []
  }
 ],
 "metadata": {
  "kernelspec": {
   "display_name": "Python 3 (ipykernel)",
   "language": "python",
   "name": "python3"
  },
  "language_info": {
   "codemirror_mode": {
    "name": "ipython",
    "version": 3
   },
   "file_extension": ".py",
   "mimetype": "text/x-python",
   "name": "python",
   "nbconvert_exporter": "python",
   "pygments_lexer": "ipython3",
   "version": "3.9.7"
  }
 },
 "nbformat": 4,
 "nbformat_minor": 5
}

{
  "cells": [
    {
      "cell_type": "markdown",
      "id": "4baaed2c",
      "metadata": {},
      "source": [
        "Практика 5.\n",
        "Написать функцию, которая решает СЛАУ Ax=b методом ортогонализации по строкам.\n",
        "Использовать библиотеку BLAS для всех операций с векторами.\n",
        "Для справки: см. сборник задач по вычислительной математике под ред. Демченко."
      ]
    },
    {
      "cell_type": "markdown",
      "id": "b116eac2",
      "metadata": {
        "id": "b116eac2"
      },
      "source": [
        "# QR разложение"
      ]
    },
    {
      "cell_type": "code",
      "execution_count": 41,
      "id": "89cf6b17",
      "metadata": {
        "id": "89cf6b17"
      },
      "outputs": [],
      "source": [
        "import numpy as np\n",
        "import scipy.linalg as sla\n",
        "from scipy.linalg import blas\n",
        "from math import sqrt"
      ]
    },
    {
      "cell_type": "code",
      "execution_count": 59,
      "id": "553c51e0",
      "metadata": {
        "id": "553c51e0"
      },
      "outputs": [],
      "source": [
        "def SO(A, b):\n",
        "\n",
        "    # Check shape of A\n",
        "    if (A.shape[0] > A.shape[1]):\n",
        "        print(\"A must have more cols than rows for SO\")\n",
        "        return\n",
        "\n",
        "    m = A.shape[0]\n",
        "    n = A.shape[1]\n",
        "\n",
        "    C = np.zeros((m,n))\n",
        "    d = np.zeros(n)\n",
        "\n",
        "    scalar = blas.ddot(A[0, :], A[0, :])\n",
        "    c_current = A[0, :] / sqrt(scalar)\n",
        "    d_current = b[0] / sqrt(scalar)\n",
        "    C[0, :] = c_current\n",
        "    d[0] = d_current\n",
        "    \n",
        "    for i in range(1, m):\n",
        "        sum = 0\n",
        "        sum2 = np.zeros(m)\n",
        "        for j in range (0, i):\n",
        "            sum = sum + blas.ddot(A[i, :], C[j, :]) * d[j]\n",
        "            sum2 = sum2 + blas.ddot(A[i, :], C[j, :]) * C[j, :]\n",
        "        c_current = A[i, :] - sum2\n",
        "        scalar = blas.ddot(c_current, c_current)\n",
        "        c_current = c_current / sqrt(scalar)\n",
        "        d_current = (b[i] - sum) / sqrt(scalar)\n",
        "        C[i, :] = c_current\n",
        "        d[i] = d_current\n",
        "\n",
        "    return blas.dgemm(1.0, C, d, trans_a=1)\n",
        "\n"
      ]
    },
    {
      "cell_type": "code",
      "execution_count": 78,
      "id": "89529649",
      "metadata": {
        "id": "89529649",
        "outputId": "77a12f50-bc51-4d94-9041-bcf54956c087"
      },
      "outputs": [
        {
          "name": "stdout",
          "output_type": "stream",
          "text": [
            "[[ 1 -1  2]\n",
            " [ 0  2  4]\n",
            " [ 2  1 -1]]\n",
            "[[ 1.]\n",
            " [ 1.]\n",
            " [-1.]]\n"
          ]
        }
      ],
      "source": [
        "n = 3\n",
        "A = np.array([[1,-1,2],[0,2,4],[2,1,-1]])\n",
        "b = np.array([-2, -2, 4])\n",
        "x = SO(A, b)\n",
        "print(A)\n",
        "print(x)"
      ]
    },
    {
      "cell_type": "code",
      "execution_count": 80,
      "id": "2a943dc8",
      "metadata": {
        "id": "2a943dc8"
      },
      "outputs": [],
      "source": [
        "n = 2000\n",
        "A = np.array(np.random.randn(n,n), order='F')\n",
        "b = np.array(np.random.randn(n))"
      ]
    },
    {
      "cell_type": "code",
      "execution_count": 81,
      "id": "f425658f",
      "metadata": {},
      "outputs": [
        {
          "name": "stdout",
          "output_type": "stream",
          "text": [
            "[[ 0.3765862 ]\n",
            " [-0.95758173]\n",
            " [ 0.2001382 ]\n",
            " ...\n",
            " [ 0.29893073]\n",
            " [-0.23227993]\n",
            " [ 0.11129534]]\n"
          ]
        }
      ],
      "source": [
        "x = SO(A, b)\n",
        "print(x)"
      ]
    },
    {
      "cell_type": "code",
      "execution_count": 82,
      "id": "077cfdb3",
      "metadata": {},
      "outputs": [
        {
          "name": "stdout",
          "output_type": "stream",
          "text": [
            "[ 0.3765862  -0.95758173  0.2001382  ...  0.29893073 -0.23227993\n",
            "  0.11129534]\n"
          ]
        }
      ],
      "source": [
        "print(np.linalg.solve(A, b))"
      ]
    }
  ],
  "metadata": {
    "colab": {
      "provenance": []
    },
    "kernelspec": {
      "display_name": "Python 3.10.6 64-bit",
      "language": "python",
      "name": "python3"
    },
    "language_info": {
      "codemirror_mode": {
        "name": "ipython",
        "version": 3
      },
      "file_extension": ".py",
      "mimetype": "text/x-python",
      "name": "python",
      "nbconvert_exporter": "python",
      "pygments_lexer": "ipython3",
      "version": "3.10.6"
    },
    "vscode": {
      "interpreter": {
        "hash": "916dbcbb3f70747c44a77c7bcd40155683ae19c65e1c03b4aa3499c5328201f1"
      }
    }
  },
  "nbformat": 4,
  "nbformat_minor": 5
}
